{
 "cells": [
  {
   "cell_type": "markdown",
   "metadata": {
    "id": "lpUbJuwsgQJu"
   },
   "source": [
    "# Computational environment\n",
    "\n",
    "Note: Lines starting with `!` run in your **terminal**, not in Python.\n",
    "\n",
    "## Recording\n",
    "\n",
    "Create a [virtual environment](https://realpython.com/python-virtual-environments-a-primer/) to ensure reproducibility in your Python packages.\n",
    "\n",
    "The following creates a virtual environment with [`pipenv`](https://pipenv.pypa.io/en/latest/).\n",
    "Other tools exist too, such as [venv](https://docs.python.org/3/library/venv.html) or [conda](https://conda.io/projects/conda/en/latest/user-guide/tasks/manage-environments.html).\n",
    "\n",
    "Be sure to let Jupyter know what environment you are using - search for \"venv with jupyter\", for example.\n",
    "\n",
    "Document the tools you choose to use, and instructions for recovering the computational environment, inside the `procedure/environment/readme.md` file.\n",
    "\n",
    "### `pipenv`\n",
    "\n",
    "First install `pipenv` by running the chunk below:"
   ]
  },
  {
   "cell_type": "code",
   "execution_count": 1,
   "metadata": {
    "colab": {
     "base_uri": "https://localhost:8080/"
    },
    "id": "YCGcY3lah0BU",
    "outputId": "cc60f5ec-03d5-4722-f16b-b3e096a186f4"
   },
   "outputs": [
    {
     "name": "stdout",
     "output_type": "stream",
     "text": [
      "Requirement already satisfied: pipenv in /Users/vireks/.local/lib/python3.13/site-packages (2025.0.2)\n",
      "Requirement already satisfied: certifi in /opt/anaconda3/envs/vizpaper/lib/python3.13/site-packages (from pipenv) (2025.1.31)\n",
      "Requirement already satisfied: packaging>=22 in /opt/anaconda3/envs/vizpaper/lib/python3.13/site-packages (from pipenv) (24.2)\n",
      "Requirement already satisfied: setuptools>=67 in /opt/anaconda3/envs/vizpaper/lib/python3.13/site-packages (from pipenv) (75.8.0)\n",
      "Requirement already satisfied: virtualenv>=20.24.2 in /Users/vireks/.local/lib/python3.13/site-packages (from pipenv) (20.30.0)\n",
      "Requirement already satisfied: distlib<1,>=0.3.7 in /Users/vireks/.local/lib/python3.13/site-packages (from virtualenv>=20.24.2->pipenv) (0.3.9)\n",
      "Requirement already satisfied: filelock<4,>=3.12.2 in /Users/vireks/.local/lib/python3.13/site-packages (from virtualenv>=20.24.2->pipenv) (3.18.0)\n",
      "Requirement already satisfied: platformdirs<5,>=3.9.1 in /opt/anaconda3/envs/vizpaper/lib/python3.13/site-packages (from virtualenv>=20.24.2->pipenv) (3.10.0)\n"
     ]
    }
   ],
   "source": [
    "!pip install --user pipenv"
   ]
  },
  {
   "cell_type": "markdown",
   "metadata": {
    "id": "F-1ndcK1iFYD"
   },
   "source": [
    "Then, install the packages you need using `pipenv install`.\n",
    "\n",
    "**Do not use** `pip`, since it will not record the install!\n",
    "\n",
    "We will install `pyhere`, a package to simplify directory management.\n",
    "\n",
    "Check out pyhere's documentation [here](https://pypi.org/project/pyhere/).\n",
    "\n",
    "**Note**: if you run into the error `pipenv: command not found`, then replace `pipenv` with `python -m pipenv`."
   ]
  },
  {
   "cell_type": "code",
   "execution_count": 2,
   "metadata": {
    "colab": {
     "base_uri": "https://localhost:8080/"
    },
    "id": "pKr_XDW4iEa5",
    "outputId": "eba58871-fe7d-4f2f-8268-9fa503f92d07"
   },
   "outputs": [
    {
     "name": "stdout",
     "output_type": "stream",
     "text": [
      "\u001b[1mCreating a virtualenv for this project\u001b[0m\n",
      "Pipfile: \u001b[1;33m/Users/vireks/Documents/Ph.D./\u001b[0m\u001b[1;33mSpecial\u001b[0m\u001b[1;33m Issue RR/Manuscript \u001b[0m\n",
      "\u001b[1;33mCaGIS/Kedron-holler_template/procedure/code/Pipfile\u001b[0m\n",
      "\u001b[1mUsing\u001b[0m \u001b[1;33m/Library/Frameworks/Python.framework/Versions/3.10/bin/\u001b[0m\u001b[1;33mpython3\u001b[0m\u001b[32m3.10.7\u001b[0m\u001b[32m \u001b[0m\u001b[1;32mto \u001b[0m\n",
      "\u001b[1;32mcreate virtualenv\u001b[0m\u001b[1;32m...\u001b[0m\n",
      "\u001b[2K\u001b[32m⠼\u001b[0m Creating virtual environment...\u001b[36mcreated virtual environment CPython3.\u001b[0m\u001b[1;36m10.7\u001b[0m\u001b[36m.final.\u001b[0m\u001b[1;36m0\u001b[0m\u001b[36m-\u001b[0m\u001b[1;36m64\u001b[0m\u001b[36m in 318ms\u001b[0m\n",
      "\u001b[36m  creator \u001b[0m\n",
      "\u001b[1;36mCPython3Posix\u001b[0m\u001b[1;36m(\u001b[0m\u001b[36mdest\u001b[0m\u001b[36m=\u001b[0m\u001b[36m/Users/vireks/.local/share/virtualenvs/\u001b[0m\u001b[36mcode-kJ-twA58\u001b[0m\u001b[36m, \u001b[0m\n",
      "\u001b[36mclear\u001b[0m\u001b[36m=\u001b[0m\u001b[3;36mFalse\u001b[0m\u001b[36m, \u001b[0m\u001b[36mno_vcs_ignore\u001b[0m\u001b[36m=\u001b[0m\u001b[3;36mFalse\u001b[0m\u001b[36m, \u001b[0m\u001b[36mglobal\u001b[0m\u001b[36m=\u001b[0m\u001b[3;36mFalse\u001b[0m\u001b[1;36m)\u001b[0m\n",
      "\u001b[36m  seeder \u001b[0m\u001b[1;36mFromAppData\u001b[0m\u001b[1;36m(\u001b[0m\u001b[36mdownload\u001b[0m\u001b[36m=\u001b[0m\u001b[3;36mFalse\u001b[0m\u001b[36m, \u001b[0m\u001b[36mpip\u001b[0m\u001b[36m=\u001b[0m\u001b[36mbundle\u001b[0m\u001b[36m, \u001b[0m\u001b[36msetuptools\u001b[0m\u001b[36m=\u001b[0m\u001b[36mbundle\u001b[0m\u001b[36m, \u001b[0m\n",
      "\u001b[36mwheel\u001b[0m\u001b[36m=\u001b[0m\u001b[36mbundle\u001b[0m\u001b[36m, \u001b[0m\u001b[36mvia\u001b[0m\u001b[36m=\u001b[0m\u001b[36mcopy\u001b[0m\u001b[36m, \u001b[0m\u001b[36mapp_data_dir\u001b[0m\u001b[36m=\u001b[0m\u001b[36m/Users/vireks/Library/\u001b[0m\u001b[36mApplication\u001b[0m\u001b[36m \u001b[0m\n",
      "\u001b[36mSupport/virtualenv\u001b[0m\u001b[1;36m)\u001b[0m\n",
      "\u001b[36m    added seed packages: \u001b[0m\u001b[36mpip\u001b[0m\u001b[36m==\u001b[0m\u001b[1;36m25.0\u001b[0m\u001b[36m.\u001b[0m\u001b[1;36m1\u001b[0m\u001b[36m, \u001b[0m\u001b[36msetuptools\u001b[0m\u001b[36m==\u001b[0m\u001b[1;36m78.1\u001b[0m\u001b[36m.\u001b[0m\u001b[1;36m1\u001b[0m\u001b[36m, \u001b[0m\u001b[36mwheel\u001b[0m\u001b[36m==\u001b[0m\u001b[1;36m0.45\u001b[0m\u001b[36m.\u001b[0m\u001b[1;36m1\u001b[0m\n",
      "\u001b[36m  activators \u001b[0m\n",
      "\u001b[36mBashActivator,CShellActivator,FishActivator,NushellActivator,PowerShellActivator\u001b[0m\n",
      "\u001b[36m,PythonActivator\u001b[0m\n",
      "\n",
      "✔ Successfully created virtual environment!\n",
      "\u001b[2K\u001b[32m⠼\u001b[0m Creating virtual environment...\n",
      "\u001b[1A\u001b[2K\u001b[32mVirtualenv location: \u001b[0m\u001b[32m/Users/vireks/.local/share/virtualenvs/\u001b[0m\u001b[32mcode-kJ-twA58\u001b[0m\n",
      "\u001b[1mrequirements.txt\u001b[0m found in \u001b[1;33m/Users/vireks/Documents/Ph.D./Special Issue \u001b[0m\n",
      "\u001b[1;33mRR/Manuscript CaGIS\u001b[0m instead of \u001b[1mPipfile\u001b[0m! Converting...\n",
      "\u001b[2K✔ Success! Importing requirements.....\n",
      "\u001b[2K\u001b[32m⠇\u001b[0m Importing requirements...\n",
      "\u001b[1A\u001b[2K\u001b[1;31mWarning\u001b[0m: Your \u001b[1mPipfile\u001b[0m now contains pinned versions, if your \u001b[1mrequirements.txt\u001b[0m \n",
      "did. \n",
      "We recommend updating your \u001b[1mPipfile\u001b[0m to specify the \u001b[1m\"*\"\u001b[0m version, instead.\n",
      "\u001b[1mPipfile.lock not found, creating\u001b[0m\u001b[1;33m...\u001b[0m\n",
      "Locking  dependencies\u001b[33m...\u001b[0m\n",
      "\u001b[?25lBuilding requirements...\n",
      "\u001b[2KResolving dependencies....\n",
      "\u001b[2K✔ Success! Locking packages...\n",
      "\u001b[2K\u001b[32m⠸\u001b[0m Locking packages...\n",
      "\u001b[1A\u001b[2KLocking  dependencies\u001b[33m...\u001b[0m\n",
      "\u001b[1mUpdated Pipfile.lock \u001b[0m\n",
      "\u001b[1m(\u001b[0m\u001b[1m510ce6a89bd93ce0dbea978c09f2161c5f05c95f8d013a7c0fdd85634eca1a31\u001b[0m\u001b[1m)\u001b[0m\u001b[1m!\u001b[0m\n",
      "To activate this project's virtualenv, run \u001b[33mpipenv shell\u001b[0m.\n",
      "Alternatively, run a command inside the virtualenv with \u001b[33mpipenv run\u001b[0m.\n",
      "\u001b[1;32mInstalling pyhere...\u001b[0m\n",
      "✔ Installation Succeeded\n",
      "To activate this project's virtualenv, run \u001b[33mpipenv shell\u001b[0m.\n",
      "Alternatively, run a command inside the virtualenv with \u001b[33mpipenv run\u001b[0m.\n",
      "\u001b[1mInstalling dependencies from Pipfile.lock \u001b[0m\u001b[1;39m(ca1a31)...\u001b[0m\n",
      "\u001b[32mAll dependencies are now up-to-date!\u001b[0m\n",
      "\u001b[1;32mUpgrading\u001b[0m pyhere in \u001b[39m dependencies.\u001b[0m\n",
      "\u001b[?25lBuilding requirements...\n",
      "\u001b[2KResolving dependencies....\n",
      "\u001b[2K✔ Success! Locking packages...\n",
      "\u001b[2K\u001b[32m⠧\u001b[0m Locking packages...\n",
      "\u001b[1A\u001b[2K\u001b[?25lBuilding requirements...\n",
      "\u001b[2KResolving dependencies....\n",
      "\u001b[2K✔ Success! Locking packages...\n",
      "\u001b[2K\u001b[32m⠦\u001b[0m Locking packages...\n",
      "\u001b[1A\u001b[2K\u001b[?25lBuilding requirements...\n",
      "\u001b[2KResolving dependencies....\n",
      "\u001b[2K✔ Success! Locking packages...\n",
      "\u001b[2K\u001b[32m⠋\u001b[0m Locking packages...\n",
      "\u001b[1A\u001b[2KTo activate this project's virtualenv, run \u001b[33mpipenv shell\u001b[0m.\n",
      "Alternatively, run a command inside the virtualenv with \u001b[33mpipenv run\u001b[0m.\n",
      "\u001b[1mInstalling dependencies from Pipfile.lock \u001b[0m\u001b[1;39m(bc1e99)...\u001b[0m\n",
      "\u001b[32mAll dependencies are now up-to-date!\u001b[0m\n",
      "\u001b[1mInstalling dependencies from Pipfile.lock \u001b[0m\u001b[1;39m(bc1e99)...\u001b[0m\n"
     ]
    }
   ],
   "source": [
    "!python -m pipenv install pyhere"
   ]
  },
  {
   "cell_type": "markdown",
   "metadata": {
    "id": "26gqe2mtjkwA"
   },
   "source": [
    "When you installed `pyhere`, `pipenv` created a virtual environment for you.\n",
    "\n",
    "You can see the virtualenv's location given above:\n",
    "\n",
    "```\n",
    "Virtualenv location: /root/.local/share/virtualenvs/content-cQIIIOO2\n",
    "```\n",
    "\n",
    "Next, follow [these instructions](https://jupyterlab.readthedocs.io/en/stable/getting_started/installation.html#pipenv) to launch Jupyter using the `pipenv` environment you just created.\n",
    "\n",
    "#### The Pipfile\n",
    "You will see two files in the current notebook folder; refresh JupyterLab's file explorer if you do not.\n",
    "\n",
    "When you are finished with the analysis, move **both** `Pipfile` and `Pipfile.lock` into the `/procedure/environment` folder."
   ]
  },
  {
   "cell_type": "markdown",
   "metadata": {
    "id": "o5wVGooof91k"
   },
   "source": [
    "### Record existing packages\n",
    "If you already have some code that imports Python packages, the `pigar` package can help you figure out which packages you are using.\n",
    "\n",
    "Comment out the first line to run the code below.\n",
    "Run the code once, when you are finished with the analysis and know what packages you are using.\n",
    "\n",
    "This will generate a `requirements.txt` in the `/procedure/environment` folder."
   ]
  },
  {
   "cell_type": "code",
   "execution_count": 3,
   "metadata": {
    "colab": {
     "base_uri": "https://localhost:8080/"
    },
    "id": "0wzieMywf91l",
    "outputId": "3fca492a-80fc-454d-bfe8-4243253f2c88"
   },
   "outputs": [
    {
     "name": "stdout",
     "output_type": "stream",
     "text": [
      "skipping\n"
     ]
    }
   ],
   "source": [
    "%%script echo skipping\n",
    "!pip install pigar\n",
    "!python -m pigar generate -f ../environment/requirements.txt"
   ]
  },
  {
   "cell_type": "markdown",
   "metadata": {
    "id": "6whdTQbphAFN"
   },
   "source": [
    "#### Cleanup\n",
    "Depending on your setup, the list generated by `pigar` may require cleanup.\n",
    "\n",
    "The goal of cleanup is for the `requirements.txt` to contain only comments (lines starting with #) and lines of the format `[package]==[version]`.\n",
    "\n",
    "Thus, version `1.15.post1` of the `CensusData` package can be represented as `CensusData==1.15.post1`.\n",
    "\n",
    "An example is packages installed with `conda`.\n",
    "These entries may look somewhat like this:\n",
    "```python\n",
    "# Editable install with no version control (pandas==1.3.5)\n",
    "-e /cvmfs/cybergis.illinois.edu/software/conda/cybergisx/python3-0.9.0/lib/python3.8/site-packages/pandas-1.3.5-py3.8.egg-info\n",
    "```\n",
    "Since this essentially installs `pandas` version `1.3.5`, you can replace these two lines with `pandas==1.3.5`.\n"
   ]
  },
  {
   "cell_type": "markdown",
   "metadata": {},
   "source": [
    "## Recovering\n",
    "\n",
    "Depending on what is inside the `/procedure/environment` folder, you will recover the computational environment with different tools.\n",
    "\n",
    "### From a virtual environment\n",
    "\n",
    "If you have a `Pipfile` and a `Pipfile.lock`, run:"
   ]
  },
  {
   "cell_type": "code",
   "execution_count": 4,
   "metadata": {},
   "outputs": [
    {
     "name": "stdout",
     "output_type": "stream",
     "text": [
      "zsh:1: command not found: pipenv\n"
     ]
    }
   ],
   "source": [
    "!cd ../environment\n",
    "!pipenv sync"
   ]
  },
  {
   "cell_type": "markdown",
   "metadata": {},
   "source": [
    "If you have a `Pipfile` but no `Pipfile.lock`, run:"
   ]
  },
  {
   "cell_type": "code",
   "execution_count": 5,
   "metadata": {},
   "outputs": [
    {
     "name": "stdout",
     "output_type": "stream",
     "text": [
      "zsh:1: command not found: pipenv\n",
      "zsh:1: command not found: pipenv\n"
     ]
    }
   ],
   "source": [
    "!cd ../environment\n",
    "!pipenv install\n",
    "!pipenv sync"
   ]
  },
  {
   "cell_type": "markdown",
   "metadata": {},
   "source": [
    "If you have a `environment.yml`, run:"
   ]
  },
  {
   "cell_type": "code",
   "execution_count": null,
   "metadata": {},
   "outputs": [],
   "source": [
    "!conda env create -f environment.yml"
   ]
  },
  {
   "cell_type": "markdown",
   "metadata": {},
   "source": [
    "After you recover the virtual environment, activate it for the notebook environment you are using."
   ]
  },
  {
   "cell_type": "markdown",
   "metadata": {},
   "source": [
    "### From a list of packages\n",
    "\n",
    "If you have a `requirements.txt`, then you may want to create a virtual environment with `venv` or `pipenv`.\n",
    "\n",
    "But if you are on a disposable environment, e.g. Google Colab or Binder, then there is no need for a virtual environment;\n",
    "simply run the next code cell.\n",
    "\n",
    "Should you choose `venv`, then create a virtual environment, activate it, then run:"
   ]
  },
  {
   "cell_type": "code",
   "execution_count": null,
   "metadata": {},
   "outputs": [],
   "source": [
    "# run directly if disposable\n",
    "!pip install -r ../environment/requirements.txt"
   ]
  },
  {
   "cell_type": "markdown",
   "metadata": {},
   "source": [
    "If you choose `pipenv`, refer to the instructions [here](https://docs.pipenv.org/basics/#importing-from-requirements-txt)."
   ]
  }
 ],
 "metadata": {
  "kernelspec": {
   "display_name": "Python 3 (ipykernel)",
   "language": "python",
   "name": "python3"
  },
  "language_info": {
   "codemirror_mode": {
    "name": "ipython",
    "version": 3
   },
   "file_extension": ".py",
   "mimetype": "text/x-python",
   "name": "python",
   "nbconvert_exporter": "python",
   "pygments_lexer": "ipython3",
   "version": "3.13.2"
  }
 },
 "nbformat": 4,
 "nbformat_minor": 4
}
